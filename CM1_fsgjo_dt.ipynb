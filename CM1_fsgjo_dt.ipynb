{
  "cells": [
    {
      "cell_type": "code",
      "execution_count": 1,
      "metadata": {
        "id": "gCCMiUIlCDdl"
      },
      "outputs": [],
      "source": [
        "Avg_acc_all_dataset=[]\n",
        "Avg_acc_all_dataset_without_FS=[]\n",
        "Avg_feature_all_dataset=[]\n",
        "Avg_fitness_all_dataset=[]"
      ]
    },
    {
      "cell_type": "code",
      "execution_count": 2,
      "metadata": {
        "id": "hr81dqylCDdn"
      },
      "outputs": [],
      "source": [
        "import numpy as np\n",
        "from random import randint\n",
        "from random import uniform\n",
        "import matplotlib.pyplot as plt\n",
        "import pandas as pd\n",
        "from sklearn.preprocessing import LabelEncoder\n",
        "import math"
      ]
    },
    {
      "cell_type": "code",
      "execution_count": 3,
      "metadata": {
        "colab": {
          "base_uri": "https://localhost:8080/",
          "height": 300
        },
        "id": "PxZhRhKVCDdp",
        "outputId": "b05ce2d4-7a23-4278-f96c-721203c43cb6"
      },
      "outputs": [
        {
          "data": {
            "text/html": [
              "<div>\n",
              "<style scoped>\n",
              "    .dataframe tbody tr th:only-of-type {\n",
              "        vertical-align: middle;\n",
              "    }\n",
              "\n",
              "    .dataframe tbody tr th {\n",
              "        vertical-align: top;\n",
              "    }\n",
              "\n",
              "    .dataframe thead th {\n",
              "        text-align: right;\n",
              "    }\n",
              "</style>\n",
              "<table border=\"1\" class=\"dataframe\">\n",
              "  <thead>\n",
              "    <tr style=\"text-align: right;\">\n",
              "      <th></th>\n",
              "      <th>id</th>\n",
              "      <th>LOC_BLANK</th>\n",
              "      <th>BRANCH_COUNT</th>\n",
              "      <th>CALL_PAIRS</th>\n",
              "      <th>LOC_CODE_AND_COMMENT</th>\n",
              "      <th>LOC_COMMENTS</th>\n",
              "      <th>CONDITION_COUNT</th>\n",
              "      <th>CYCLOMATIC_COMPLEXITY</th>\n",
              "      <th>CYCLOMATIC_DENSITY</th>\n",
              "      <th>DECISION_COUNT</th>\n",
              "      <th>...</th>\n",
              "      <th>NODE_COUNT</th>\n",
              "      <th>NORMALIZED_CYLOMATIC_COMPLEXITY</th>\n",
              "      <th>NUM_OPERANDS</th>\n",
              "      <th>NUM_OPERATORS</th>\n",
              "      <th>NUM_UNIQUE_OPERANDS</th>\n",
              "      <th>NUM_UNIQUE_OPERATORS</th>\n",
              "      <th>NUMBER_OF_LINES</th>\n",
              "      <th>PERCENT_COMMENTS</th>\n",
              "      <th>LOC_TOTAL</th>\n",
              "      <th>Defective</th>\n",
              "    </tr>\n",
              "  </thead>\n",
              "  <tbody>\n",
              "    <tr>\n",
              "      <th>0</th>\n",
              "      <td>1</td>\n",
              "      <td>9</td>\n",
              "      <td>5</td>\n",
              "      <td>3</td>\n",
              "      <td>2</td>\n",
              "      <td>2</td>\n",
              "      <td>8</td>\n",
              "      <td>3</td>\n",
              "      <td>0.16</td>\n",
              "      <td>4</td>\n",
              "      <td>...</td>\n",
              "      <td>10</td>\n",
              "      <td>0.10</td>\n",
              "      <td>36</td>\n",
              "      <td>66</td>\n",
              "      <td>21</td>\n",
              "      <td>17</td>\n",
              "      <td>31</td>\n",
              "      <td>19.05</td>\n",
              "      <td>19</td>\n",
              "      <td>N</td>\n",
              "    </tr>\n",
              "    <tr>\n",
              "      <th>1</th>\n",
              "      <td>2</td>\n",
              "      <td>19</td>\n",
              "      <td>3</td>\n",
              "      <td>1</td>\n",
              "      <td>2</td>\n",
              "      <td>0</td>\n",
              "      <td>4</td>\n",
              "      <td>2</td>\n",
              "      <td>0.06</td>\n",
              "      <td>2</td>\n",
              "      <td>...</td>\n",
              "      <td>23</td>\n",
              "      <td>0.04</td>\n",
              "      <td>66</td>\n",
              "      <td>69</td>\n",
              "      <td>34</td>\n",
              "      <td>12</td>\n",
              "      <td>55</td>\n",
              "      <td>5.71</td>\n",
              "      <td>35</td>\n",
              "      <td>N</td>\n",
              "    </tr>\n",
              "    <tr>\n",
              "      <th>2</th>\n",
              "      <td>3</td>\n",
              "      <td>0</td>\n",
              "      <td>9</td>\n",
              "      <td>0</td>\n",
              "      <td>0</td>\n",
              "      <td>0</td>\n",
              "      <td>10</td>\n",
              "      <td>5</td>\n",
              "      <td>0.56</td>\n",
              "      <td>2</td>\n",
              "      <td>...</td>\n",
              "      <td>9</td>\n",
              "      <td>0.50</td>\n",
              "      <td>10</td>\n",
              "      <td>21</td>\n",
              "      <td>7</td>\n",
              "      <td>9</td>\n",
              "      <td>10</td>\n",
              "      <td>0.00</td>\n",
              "      <td>9</td>\n",
              "      <td>N</td>\n",
              "    </tr>\n",
              "    <tr>\n",
              "      <th>3</th>\n",
              "      <td>4</td>\n",
              "      <td>2</td>\n",
              "      <td>15</td>\n",
              "      <td>2</td>\n",
              "      <td>1</td>\n",
              "      <td>9</td>\n",
              "      <td>24</td>\n",
              "      <td>8</td>\n",
              "      <td>0.19</td>\n",
              "      <td>10</td>\n",
              "      <td>...</td>\n",
              "      <td>18</td>\n",
              "      <td>0.15</td>\n",
              "      <td>67</td>\n",
              "      <td>120</td>\n",
              "      <td>43</td>\n",
              "      <td>19</td>\n",
              "      <td>54</td>\n",
              "      <td>19.61</td>\n",
              "      <td>42</td>\n",
              "      <td>N</td>\n",
              "    </tr>\n",
              "    <tr>\n",
              "      <th>4</th>\n",
              "      <td>5</td>\n",
              "      <td>5</td>\n",
              "      <td>5</td>\n",
              "      <td>1</td>\n",
              "      <td>0</td>\n",
              "      <td>0</td>\n",
              "      <td>8</td>\n",
              "      <td>3</td>\n",
              "      <td>0.15</td>\n",
              "      <td>4</td>\n",
              "      <td>...</td>\n",
              "      <td>9</td>\n",
              "      <td>0.12</td>\n",
              "      <td>25</td>\n",
              "      <td>46</td>\n",
              "      <td>17</td>\n",
              "      <td>14</td>\n",
              "      <td>26</td>\n",
              "      <td>0.00</td>\n",
              "      <td>20</td>\n",
              "      <td>N</td>\n",
              "    </tr>\n",
              "  </tbody>\n",
              "</table>\n",
              "<p>5 rows × 39 columns</p>\n",
              "</div>"
            ],
            "text/plain": [
              "   id  LOC_BLANK  BRANCH_COUNT  CALL_PAIRS  LOC_CODE_AND_COMMENT  \\\n",
              "0   1          9             5           3                     2   \n",
              "1   2         19             3           1                     2   \n",
              "2   3          0             9           0                     0   \n",
              "3   4          2            15           2                     1   \n",
              "4   5          5             5           1                     0   \n",
              "\n",
              "   LOC_COMMENTS  CONDITION_COUNT  CYCLOMATIC_COMPLEXITY  CYCLOMATIC_DENSITY  \\\n",
              "0             2                8                      3                0.16   \n",
              "1             0                4                      2                0.06   \n",
              "2             0               10                      5                0.56   \n",
              "3             9               24                      8                0.19   \n",
              "4             0                8                      3                0.15   \n",
              "\n",
              "   DECISION_COUNT  ...  NODE_COUNT  NORMALIZED_CYLOMATIC_COMPLEXITY  \\\n",
              "0               4  ...          10                             0.10   \n",
              "1               2  ...          23                             0.04   \n",
              "2               2  ...           9                             0.50   \n",
              "3              10  ...          18                             0.15   \n",
              "4               4  ...           9                             0.12   \n",
              "\n",
              "   NUM_OPERANDS  NUM_OPERATORS  NUM_UNIQUE_OPERANDS  NUM_UNIQUE_OPERATORS  \\\n",
              "0            36             66                   21                    17   \n",
              "1            66             69                   34                    12   \n",
              "2            10             21                    7                     9   \n",
              "3            67            120                   43                    19   \n",
              "4            25             46                   17                    14   \n",
              "\n",
              "   NUMBER_OF_LINES  PERCENT_COMMENTS  LOC_TOTAL  Defective  \n",
              "0               31             19.05         19          N  \n",
              "1               55              5.71         35          N  \n",
              "2               10              0.00          9          N  \n",
              "3               54             19.61         42          N  \n",
              "4               26              0.00         20          N  \n",
              "\n",
              "[5 rows x 39 columns]"
            ]
          },
          "execution_count": 3,
          "metadata": {},
          "output_type": "execute_result"
        }
      ],
      "source": [
        "data=pd.read_csv('csv_result-CM1.csv')\n",
        "data.head()"
      ]
    },
    {
      "cell_type": "code",
      "execution_count": 4,
      "metadata": {
        "colab": {
          "base_uri": "https://localhost:8080/"
        },
        "id": "uR5ev0BsCDdp",
        "outputId": "6041b964-072d-4197-9d67-b45bcc6199ab"
      },
      "outputs": [
        {
          "data": {
            "text/plain": [
              "(327, 39)"
            ]
          },
          "execution_count": 4,
          "metadata": {},
          "output_type": "execute_result"
        }
      ],
      "source": [
        "data.shape"
      ]
    },
    {
      "cell_type": "code",
      "execution_count": 5,
      "metadata": {
        "colab": {
          "base_uri": "https://localhost:8080/"
        },
        "id": "9txAfuwdCDdr",
        "outputId": "5bd11b8d-1871-4b78-a329-c7653d7df69a"
      },
      "outputs": [
        {
          "name": "stdout",
          "output_type": "stream",
          "text": [
            "id                                 0\n",
            "LOC_BLANK                          0\n",
            "BRANCH_COUNT                       0\n",
            "CALL_PAIRS                         0\n",
            "LOC_CODE_AND_COMMENT               0\n",
            "LOC_COMMENTS                       0\n",
            "CONDITION_COUNT                    0\n",
            "CYCLOMATIC_COMPLEXITY              0\n",
            "CYCLOMATIC_DENSITY                 0\n",
            "DECISION_COUNT                     0\n",
            "DECISION_DENSITY                   0\n",
            "DESIGN_COMPLEXITY                  0\n",
            "DESIGN_DENSITY                     0\n",
            "EDGE_COUNT                         0\n",
            "ESSENTIAL_COMPLEXITY               0\n",
            "ESSENTIAL_DENSITY                  0\n",
            "LOC_EXECUTABLE                     0\n",
            "PARAMETER_COUNT                    0\n",
            "HALSTEAD_CONTENT                   0\n",
            "HALSTEAD_DIFFICULTY                0\n",
            "HALSTEAD_EFFORT                    0\n",
            "HALSTEAD_ERROR_EST                 0\n",
            "HALSTEAD_LENGTH                    0\n",
            "HALSTEAD_LEVEL                     0\n",
            "HALSTEAD_PROG_TIME                 0\n",
            "HALSTEAD_VOLUME                    0\n",
            "MAINTENANCE_SEVERITY               0\n",
            "MODIFIED_CONDITION_COUNT           0\n",
            "MULTIPLE_CONDITION_COUNT           0\n",
            "NODE_COUNT                         0\n",
            "NORMALIZED_CYLOMATIC_COMPLEXITY    0\n",
            "NUM_OPERANDS                       0\n",
            "NUM_OPERATORS                      0\n",
            "NUM_UNIQUE_OPERANDS                0\n",
            "NUM_UNIQUE_OPERATORS               0\n",
            "NUMBER_OF_LINES                    0\n",
            "PERCENT_COMMENTS                   0\n",
            "LOC_TOTAL                          0\n",
            "Defective                          0\n",
            "dtype: int64\n"
          ]
        }
      ],
      "source": [
        "print(data.isnull().sum())\n",
        "\n"
      ]
    },
    {
      "cell_type": "code",
      "execution_count": 6,
      "metadata": {
        "colab": {
          "base_uri": "https://localhost:8080/"
        },
        "id": "06w0apr6CDds",
        "outputId": "e2b2820f-66af-4bc2-ae9b-84fe404993ed"
      },
      "outputs": [],
      "source": [
        "#data=data.fillna(0)\n",
        "#print(data.isnull().sum())"
      ]
    },
    {
      "cell_type": "code",
      "execution_count": 7,
      "metadata": {
        "id": "EE_Jc57pCDdu"
      },
      "outputs": [],
      "source": [
        "#Separate the features and output column\n",
        "\n",
        "y=data.iloc[:,-1]\n",
        "tdata=data.iloc[:,0:-1]\n",
        "#tdata"
      ]
    },
    {
      "cell_type": "code",
      "execution_count": 8,
      "metadata": {
        "colab": {
          "base_uri": "https://localhost:8080/"
        },
        "id": "qJBAV_VsCDdu",
        "outputId": "e3e4953f-38f1-4c6d-ef38-b384e130a356"
      },
      "outputs": [
        {
          "data": {
            "text/plain": [
              "array([0, 0, 0, 0, 0, 0, 0, 0, 0, 0, 0, 0, 0, 1, 0, 0, 0, 0, 0, 0, 0, 0,\n",
              "       0, 1, 0, 0, 1, 1, 1, 0, 0, 0, 0, 0, 0, 0, 1, 0, 0, 0, 0, 1, 0, 0,\n",
              "       0, 1, 0, 0, 0, 0, 0, 0, 1, 0, 0, 0, 0, 1, 0, 0, 0, 0, 1, 0, 0, 0,\n",
              "       0, 1, 1, 0, 1, 0, 0, 0, 0, 0, 0, 1, 0, 0, 0, 0, 1, 0, 0, 0, 1, 0,\n",
              "       0, 0, 0, 0, 0, 0, 1, 0, 0, 0, 0, 0, 0, 0, 0, 0, 0, 0, 0, 0, 0, 0,\n",
              "       0, 0, 0, 0, 0, 0, 0, 0, 0, 0, 0, 0, 0, 1, 0, 0, 0, 0, 0, 0, 0, 0,\n",
              "       0, 0, 0, 0, 0, 0, 0, 0, 0, 0, 0, 0, 0, 0, 1, 0, 0, 1, 0, 0, 0, 0,\n",
              "       0, 0, 0, 0, 0, 1, 0, 0, 0, 0, 1, 0, 1, 1, 0, 1, 0, 0, 0, 0, 0, 0,\n",
              "       1, 0, 0, 0, 1, 0, 0, 0, 0, 0, 0, 0, 0, 0, 0, 0, 0, 0, 0, 0, 0, 0,\n",
              "       0, 1, 0, 0, 0, 0, 0, 0, 0, 0, 0, 0, 0, 0, 0, 0, 0, 1, 0, 0, 0, 0,\n",
              "       0, 0, 0, 0, 0, 0, 0, 0, 1, 0, 0, 0, 0, 0, 0, 0, 0, 0, 0, 0, 0, 0,\n",
              "       0, 0, 0, 0, 1, 0, 0, 0, 0, 0, 0, 1, 0, 0, 0, 0, 0, 0, 1, 0, 0, 0,\n",
              "       0, 0, 0, 0, 0, 0, 0, 0, 0, 0, 0, 0, 1, 1, 1, 1, 0, 0, 0, 0, 0, 0,\n",
              "       0, 0, 0, 0, 0, 0, 0, 0, 1, 0, 0, 0, 0, 0, 0, 0, 0, 0, 0, 0, 0, 0,\n",
              "       0, 0, 0, 1, 1, 0, 0, 0, 0, 0, 0, 1, 0, 0, 0, 0, 0, 0, 0])"
            ]
          },
          "execution_count": 8,
          "metadata": {},
          "output_type": "execute_result"
        }
      ],
      "source": [
        "from sklearn import preprocessing\n",
        "from sklearn import utils\n",
        "label = preprocessing.LabelEncoder()\n",
        "\n",
        "y=label.fit_transform(y)\n",
        "#y=label.fit_transform(y)\n",
        "\n",
        "y\n"
      ]
    },
    {
      "cell_type": "code",
      "execution_count": 9,
      "metadata": {
        "id": "xee4f9YxCDdv"
      },
      "outputs": [],
      "source": [
        "max_itr=200\n",
        "rows, columns= data.shape[0], data.shape[1]\n",
        "NP=30 #Number of population\n",
        "dim=columns-1 #Dimesnsion of the problem\n",
        "repeat=10"
      ]
    },
    {
      "cell_type": "code",
      "execution_count": 10,
      "metadata": {
        "colab": {
          "base_uri": "https://localhost:8080/"
        },
        "id": "-H8yzU5aCDdy",
        "outputId": "53e1ef77-8252-4cbb-f66f-9364623d2bce"
      },
      "outputs": [
        {
          "data": {
            "text/plain": [
              "((261, 38), (66, 38), (261,), (66,))"
            ]
          },
          "execution_count": 10,
          "metadata": {},
          "output_type": "execute_result"
        }
      ],
      "source": [
        "from sklearn.model_selection import train_test_split\n",
        "\n",
        "training_data,testing_data,training_classlebel,testing_classlebel=train_test_split(tdata,y,test_size=0.2,random_state=42)\n",
        "training_data.shape,testing_data.shape,training_classlebel.shape,testing_classlebel.shape"
      ]
    },
    {
      "cell_type": "code",
      "execution_count": 11,
      "metadata": {
        "id": "6YbTulDHCDdz"
      },
      "outputs": [],
      "source": [
        "import random\n",
        "from sklearn.metrics import accuracy_score,f1_score,recall_score,precision_score,confusion_matrix\n",
        "\n",
        "from sklearn.tree import DecisionTreeClassifier\n",
        "dtc=DecisionTreeClassifier()\n",
        "\n"
      ]
    },
    {
      "cell_type": "code",
      "execution_count": 12,
      "metadata": {
        "id": "TZnT_DLmCDd0"
      },
      "outputs": [],
      "source": [
        "\n",
        "average_fitness=[]\n",
        "average_accuracy=[]\n",
        "average_accuracy_without_FS=[]\n",
        "average_feature=[]"
      ]
    },
    {
      "cell_type": "code",
      "execution_count": 13,
      "metadata": {
        "colab": {
          "base_uri": "https://localhost:8080/",
          "height": 836
        },
        "id": "QzOLs-IjCDd0",
        "outputId": "6cc4b6ea-93ac-435a-a2b4-942264e2feee"
      },
      "outputs": [
        {
          "name": "stdout",
          "output_type": "stream",
          "text": [
            "Run no: 0\n",
            "Selected feature indices are:  [3, 4, 6, 7, 8, 11, 12, 13, 17, 18, 19, 21, 22, 27, 29, 32, 33, 35, 37]\n",
            "Number of selected features are:  19\n",
            "Accuracy without FS:  78.78787878787878\n",
            "Accuracy with FS:  80.3030303030303\n",
            "Run no: 1\n",
            "Selected feature indices are:  [0, 2, 3, 8, 9, 10, 11, 13, 15, 17, 18, 19, 21, 23, 25, 28, 29, 31, 32, 33, 34, 35, 37]\n",
            "Number of selected features are:  23\n",
            "Accuracy without FS:  78.78787878787878\n",
            "Accuracy with FS:  86.36363636363636\n",
            "Run no: 2\n",
            "Selected feature indices are:  [0, 2, 8, 10, 11, 12, 13, 15, 17, 18, 20, 24, 25, 27, 28, 29, 32, 33, 34, 35]\n",
            "Number of selected features are:  20\n",
            "Accuracy without FS:  80.3030303030303\n",
            "Accuracy with FS:  81.81818181818183\n",
            "Run no: 3\n",
            "Selected feature indices are:  [0, 1, 2, 4, 6, 15, 17, 19, 20, 24, 25, 27, 29, 31, 32, 33, 34, 35, 36]\n",
            "Number of selected features are:  19\n",
            "Accuracy without FS:  78.78787878787878\n",
            "Accuracy with FS:  80.3030303030303\n",
            "Run no: 4\n",
            "Selected feature indices are:  [2, 3, 4, 6, 8, 10, 11, 14, 19, 21, 25, 28, 31, 32, 33, 34, 35]\n",
            "Number of selected features are:  17\n",
            "Accuracy without FS:  80.3030303030303\n",
            "Accuracy with FS:  83.33333333333334\n",
            "Run no: 5\n",
            "Selected feature indices are:  [4, 6, 7, 8, 11, 12, 13, 14, 16, 20, 21, 22, 24, 25, 28, 29, 30, 31, 33]\n",
            "Number of selected features are:  19\n",
            "Accuracy without FS:  78.78787878787878\n",
            "Accuracy with FS:  87.87878787878788\n",
            "Run no: 6\n",
            "Selected feature indices are:  [0, 4, 7, 8, 9, 10, 11, 13, 14, 15, 17, 22, 23, 25, 27, 28, 30, 33, 34, 36]\n",
            "Number of selected features are:  20\n",
            "Accuracy without FS:  78.78787878787878\n",
            "Accuracy with FS:  83.33333333333334\n",
            "Run no: 7\n",
            "Selected feature indices are:  [0, 1, 2, 3, 4, 5, 6, 7, 8, 9, 15, 16, 17, 18, 19, 20, 23, 24, 25, 28, 31, 32, 33, 35, 36]\n",
            "Number of selected features are:  25\n",
            "Accuracy without FS:  80.3030303030303\n",
            "Accuracy with FS:  87.87878787878788\n",
            "Run no: 8\n",
            "Selected feature indices are:  [0, 2, 7, 9, 11, 18, 19, 20, 21, 23, 24, 26, 27, 28, 29, 30, 37]\n",
            "Number of selected features are:  17\n",
            "Accuracy without FS:  80.3030303030303\n",
            "Accuracy with FS:  84.84848484848484\n",
            "Run no: 9\n",
            "Selected feature indices are:  [6, 7, 8, 10, 13, 16, 17, 18, 19, 24, 27, 31, 34]\n",
            "Number of selected features are:  13\n",
            "Accuracy without FS:  78.78787878787878\n",
            "Accuracy with FS:  84.84848484848484\n"
          ]
        }
      ],
      "source": [
        "populationSize = NP # Number of search agents\n",
        "Max_iteration = max_itr\n",
        "lb = 0\n",
        "ub = dim-1\n",
        "#ub=1\n",
        "Best_score_T = np.zeros(repeat)\n",
        "\n",
        "for run in range(repeat):\n",
        "    print(f'Run no: {run}')\n",
        "    # initialize Golden jackal pair\n",
        "    Male_Jackal_pos = np.zeros(dim)\n",
        "    Male_Jackal_score = float('inf')\n",
        "    Female_Jackal_pos = np.zeros(dim)\n",
        "    Female_Jackal_score = float('inf')\n",
        "    #fit=np.zeros(NP)\n",
        "    Boundary_no = 1\n",
        "\n",
        "    Positions = np.zeros((populationSize, dim)) #Declaration\n",
        "    # If each variable has a different lb and ub\n",
        "    if Boundary_no > 1:\n",
        "        for i in range(dim):\n",
        "            ub_i = ub[i]\n",
        "            lb_i = lb[i]\n",
        "            Positions[:,i] = np.random.rand(populationSize,1) * (ub_i - lb_i) + lb_i\n",
        "    if Boundary_no == 1:\n",
        "      for i in range(NP):\n",
        "        for d in range(dim):\n",
        "          if random.random()>0.5:\n",
        "            Positions[i,d]=1\n",
        "    \n",
        "   \n",
        "\n",
        "    pop_size = Positions.shape[0]\n",
        "    Convergence_curve = []\n",
        "    Positions_new = np.zeros(Positions.shape)\n",
        "    l = 1\n",
        "\n",
        "    \n",
        "\n",
        "    # Main loop\n",
        "    while l <= Max_iteration:\n",
        "        u=np.zeros(Positions.shape)\n",
        "        Male_Positions = np.zeros((populationSize,dim))\n",
        "        Female_Positions = np.zeros((populationSize,dim))\n",
        "        for i in range(Positions.shape[0]):\n",
        "            # boundary checking\n",
        "            Flag4ub = Positions[i,:] > ub\n",
        "            Flag4lb = Positions[i,:] < lb\n",
        "            Positions[i,:] = (Positions[i,:]*(~(Flag4ub + Flag4lb))) + ub*Flag4ub + lb*Flag4lb\n",
        "\n",
        "            #Use Transfer function\n",
        "\n",
        "            for j in range(dim):\n",
        "\n",
        "              TF=1/(1+math.exp(-Positions_new[i,j])) #Transfer Function 1\n",
        "\n",
        "              if TF<random.random():\n",
        "                u[i,j]=0\n",
        "              else:\n",
        "                u[i,j]=1\n",
        "\n",
        "            # Calculate Fitness for each search agent\n",
        "            if((training_data.iloc[:,u[i,:]==1]).shape[1]==0):\n",
        "              fitness=1\n",
        "            else:  \n",
        "              o1=dtc.fit(training_data.iloc[:,u[i,:]==1],training_classlebel)\n",
        "              Ac1=dtc.predict(testing_data.iloc[:,u[i,:]==1])\n",
        "              fitness=sum(Ac1!=testing_classlebel)/testing_data.shape[0]\n",
        "            \n",
        "            # Update Male Jackal \n",
        "            if fitness < Male_Jackal_score:\n",
        "                Male_Jackal_score = fitness\n",
        "                Male_Jackal_pos = u[i,:] #Check Later\n",
        "                \n",
        "            if fitness > Male_Jackal_score and fitness < Female_Jackal_score:\n",
        "                Female_Jackal_score = fitness\n",
        "                Female_Jackal_pos = u[i,:] #Check Later\n",
        "\n",
        "\n",
        "        E1 = 1.5*(1-(l/Max_iteration))\n",
        "        beta = 1.5\n",
        "        num = math.gamma(1+beta)*math.sin(math.pi*beta/2) # used for Numerator \n",
        "        den = math.gamma((1+beta)/2)*beta*2**((beta-1)/2) # used for Denominator\n",
        "        sigma_u = (num/den)**(1/beta) # Standard deviation\n",
        "        u = np.random.normal(0, sigma_u, (NP, dim))\n",
        "        v = np.random.normal(0, 1, (NP, dim))\n",
        "        z = u/(abs(v)**(1/beta))\n",
        "        RL = 0.05*z\n",
        "\n",
        "        for i in range(Positions.shape[0]): #1\n",
        "            for j in range(Positions.shape[1]): #2\n",
        "                r1=np.random.rand() # r1 is a random number in [0,1]\n",
        "                E0=2*r1-1;            \n",
        "                E=E1*E0 # Evading energy\n",
        "\n",
        "                if abs(E)<1:\n",
        "                    # EXPLOITATION\n",
        "                    D_male_jackal=abs((RL[i,j]*Male_Jackal_pos[j]-Positions[i,j]))\n",
        "                    Male_Positions[i,j]=Male_Jackal_pos[j]-E*D_male_jackal\n",
        "                    D_female_jackal=abs((RL[i,j]*Female_Jackal_pos[j]-Positions[i,j]))\n",
        "                    Female_Positions[i,j]=Female_Jackal_pos[j]-E*D_female_jackal\n",
        "                else:\n",
        "                    # EXPLORATION\n",
        "                    D_male_jackal=abs((Male_Jackal_pos[j]- RL[i,j]*Positions[i,j]))\n",
        "                    Male_Positions[i,j]=Male_Jackal_pos[j]-E*D_male_jackal\n",
        "                    D_female_jackal=abs((Female_Jackal_pos[j]- RL[i,j]*Positions[i,j]))\n",
        "                    Female_Positions[i,j]=Female_Jackal_pos[j]-E*D_female_jackal\n",
        "                Positions[i,j]=(Male_Positions[i,j]+Female_Positions[i,j])/2\n",
        "        Convergence_curve.append(Male_Jackal_score)\n",
        "                        \n",
        "        l=l+1\n",
        "        \n",
        "    #Select features        \n",
        "\n",
        "    Sf=[]\n",
        "    for k in range(dim):\n",
        "        if Male_Jackal_pos[k]>0.5:\n",
        "            Sf.append(k)\n",
        "    Nf=len(Sf)\n",
        "\n",
        "    print(\"Selected feature indices are: \",Sf)\n",
        "    print(\"Number of selected features are: \",Nf)\n",
        "    average_feature.append(Nf)\n",
        "\n",
        "    #Accuracy without FS\n",
        "\n",
        "    o1=dtc.fit(training_data,training_classlebel)\n",
        "    Ac1=dtc.predict(testing_data)\n",
        "    Fnew=sum(Ac1==testing_classlebel)/testing_data.shape[0]*100\n",
        "    print(\"Accuracy without FS: \",Fnew)\n",
        "    average_accuracy_without_FS.append(Fnew)\n",
        "\n",
        "    #Accuracy with FS\n",
        "\n",
        "    o1=dtc.fit(training_data.iloc[:,Sf],training_classlebel)\n",
        "    Ac1=dtc.predict(testing_data.iloc[:,Sf])\n",
        "    Fnew2=sum(Ac1==testing_classlebel)/testing_data.shape[0]*100\n",
        "    print(\"Accuracy with FS: \",Fnew2)\n",
        "    average_accuracy.append(Fnew2)"
      ]
    },
    {
      "cell_type": "code",
      "execution_count": 14,
      "metadata": {},
      "outputs": [
        {
          "name": "stdout",
          "output_type": "stream",
          "text": [
            "CM1 Dataset results\n",
            "\n",
            "average accuracy without FS 78.78787878787878\n",
            "average accuracy with FS 84.0909090909091\n",
            "average no of features selected 19.2\n"
          ]
        }
      ],
      "source": [
        "print(\"CM1 Dataset results\\n\")\n",
        "\n",
        "Average_no_of_features_selected = sum(average_feature)/len(average_feature)\n",
        "Average_accuracy_without_FS = Fnew\n",
        "Average_accuracy_with_FS = sum(average_accuracy)/len(average_accuracy)\n",
        "\n",
        "\n",
        "print(\"average accuracy without FS\", Average_accuracy_without_FS)\n",
        "print(\"average accuracy with FS\", Average_accuracy_with_FS)\n",
        "print(\"average no of features selected\", Average_no_of_features_selected)"
      ]
    },
    {
      "cell_type": "code",
      "execution_count": 15,
      "metadata": {},
      "outputs": [
        {
          "data": {
            "text/plain": [
              "[<matplotlib.lines.Line2D at 0x24fd6064940>]"
            ]
          },
          "execution_count": 15,
          "metadata": {},
          "output_type": "execute_result"
        },
        {
          "data": {
            "image/png": "[encoded data removed]",
            "text/plain": [
              "<Figure size 640x480 with 1 Axes>"
            ]
          },
          "metadata": {},
          "output_type": "display_data"
        }
      ],
      "source": [
        "import matplotlib.pyplot as plt\n",
        "plt.plot(Convergence_curve, color='r', linewidth=2)"
      ]
    },
    {
      "cell_type": "code",
      "execution_count": 16,
      "metadata": {},
      "outputs": [
        {
          "name": "stdout",
          "output_type": "stream",
          "text": [
            "[0.15151515151515152, 0.15151515151515152, 0.15151515151515152, 0.15151515151515152, 0.13636363636363635, 0.13636363636363635, 0.13636363636363635, 0.13636363636363635, 0.13636363636363635, 0.13636363636363635, 0.13636363636363635, 0.13636363636363635, 0.13636363636363635, 0.13636363636363635, 0.13636363636363635, 0.13636363636363635, 0.13636363636363635, 0.13636363636363635, 0.13636363636363635, 0.13636363636363635, 0.13636363636363635, 0.13636363636363635, 0.13636363636363635, 0.13636363636363635, 0.13636363636363635, 0.13636363636363635, 0.13636363636363635, 0.13636363636363635, 0.13636363636363635, 0.13636363636363635, 0.13636363636363635, 0.13636363636363635, 0.13636363636363635, 0.13636363636363635, 0.13636363636363635, 0.13636363636363635, 0.13636363636363635, 0.13636363636363635, 0.13636363636363635, 0.13636363636363635, 0.13636363636363635, 0.13636363636363635, 0.12121212121212122, 0.12121212121212122, 0.12121212121212122, 0.12121212121212122, 0.12121212121212122, 0.12121212121212122, 0.10606060606060606, 0.10606060606060606, 0.10606060606060606, 0.10606060606060606, 0.10606060606060606, 0.10606060606060606, 0.10606060606060606, 0.10606060606060606, 0.10606060606060606, 0.10606060606060606, 0.10606060606060606, 0.10606060606060606, 0.10606060606060606, 0.10606060606060606, 0.10606060606060606, 0.10606060606060606, 0.10606060606060606, 0.10606060606060606, 0.10606060606060606, 0.10606060606060606, 0.10606060606060606, 0.10606060606060606, 0.10606060606060606, 0.10606060606060606, 0.10606060606060606, 0.10606060606060606, 0.10606060606060606, 0.10606060606060606, 0.10606060606060606, 0.10606060606060606, 0.10606060606060606, 0.10606060606060606, 0.10606060606060606, 0.10606060606060606, 0.10606060606060606, 0.10606060606060606, 0.10606060606060606, 0.10606060606060606, 0.10606060606060606, 0.10606060606060606, 0.10606060606060606, 0.10606060606060606, 0.10606060606060606, 0.10606060606060606, 0.10606060606060606, 0.10606060606060606, 0.10606060606060606, 0.10606060606060606, 0.10606060606060606, 0.10606060606060606, 0.10606060606060606, 0.10606060606060606, 0.10606060606060606, 0.10606060606060606, 0.10606060606060606, 0.10606060606060606, 0.10606060606060606, 0.10606060606060606, 0.10606060606060606, 0.10606060606060606, 0.10606060606060606, 0.10606060606060606, 0.10606060606060606, 0.10606060606060606, 0.10606060606060606, 0.10606060606060606, 0.10606060606060606, 0.10606060606060606, 0.10606060606060606, 0.10606060606060606, 0.10606060606060606, 0.10606060606060606, 0.10606060606060606, 0.10606060606060606, 0.10606060606060606, 0.10606060606060606, 0.10606060606060606, 0.10606060606060606, 0.10606060606060606, 0.10606060606060606, 0.10606060606060606, 0.10606060606060606, 0.10606060606060606, 0.10606060606060606, 0.10606060606060606, 0.10606060606060606, 0.10606060606060606, 0.10606060606060606, 0.10606060606060606, 0.10606060606060606, 0.10606060606060606, 0.10606060606060606, 0.10606060606060606, 0.10606060606060606, 0.10606060606060606, 0.10606060606060606, 0.10606060606060606, 0.10606060606060606, 0.10606060606060606, 0.10606060606060606, 0.10606060606060606, 0.10606060606060606, 0.10606060606060606, 0.10606060606060606, 0.10606060606060606, 0.10606060606060606, 0.10606060606060606, 0.10606060606060606, 0.10606060606060606, 0.10606060606060606, 0.10606060606060606, 0.10606060606060606, 0.10606060606060606, 0.10606060606060606, 0.10606060606060606, 0.10606060606060606, 0.10606060606060606, 0.10606060606060606, 0.10606060606060606, 0.10606060606060606, 0.10606060606060606, 0.10606060606060606, 0.10606060606060606, 0.10606060606060606, 0.10606060606060606, 0.10606060606060606, 0.10606060606060606, 0.10606060606060606, 0.10606060606060606, 0.10606060606060606, 0.10606060606060606, 0.10606060606060606, 0.10606060606060606, 0.10606060606060606, 0.10606060606060606, 0.10606060606060606, 0.10606060606060606, 0.10606060606060606, 0.10606060606060606, 0.10606060606060606, 0.10606060606060606, 0.10606060606060606, 0.10606060606060606, 0.10606060606060606, 0.10606060606060606, 0.10606060606060606, 0.10606060606060606, 0.10606060606060606, 0.10606060606060606, 0.10606060606060606, 0.10606060606060606, 0.10606060606060606]\n"
          ]
        }
      ],
      "source": [
        "print(Convergence_curve)"
      ]
    },
    {
      "cell_type": "code",
      "execution_count": 17,
      "metadata": {},
      "outputs": [],
      "source": [
        "import pickle\n",
        "\n",
        "with open(\"CM1_DTfitness\", \"wb\") as fp:   #Pickling\n",
        "  pickle.dump(Convergence_curve, fp)\n",
        "  \n",
        "\n"
      ]
    }
  ],
  "metadata": {
    "colab": {
      "provenance": []
    },
    "kernelspec": {
      "display_name": "base",
      "language": "python",
      "name": "python3"
    },
    "language_info": {
      "codemirror_mode": {
        "name": "ipython",
        "version": 3
      },
      "file_extension": ".py",
      "mimetype": "text/x-python",
      "name": "python",
      "nbconvert_exporter": "python",
      "pygments_lexer": "ipython3",
      "version": "3.9.13"
    },
    "orig_nbformat": 4,
    "vscode": {
      "interpreter": {
        "hash": "530219143d35336307c4e71c62e86952d4af021e0d8cd486539f9a68941d86ce"
      }
    }
  },
  "nbformat": 4,
  "nbformat_minor": 0
}
