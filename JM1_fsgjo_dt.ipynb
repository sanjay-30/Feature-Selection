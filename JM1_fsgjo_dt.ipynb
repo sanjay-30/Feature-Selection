{
  "cells": [
    {
      "cell_type": "code",
      "execution_count": 1,
      "metadata": {
        "id": "gCCMiUIlCDdl"
      },
      "outputs": [],
      "source": [
        "Avg_acc_all_dataset=[]\n",
        "Avg_acc_all_dataset_without_FS=[]\n",
        "Avg_feature_all_dataset=[]\n",
        "Avg_fitness_all_dataset=[]"
      ]
    },
    {
      "cell_type": "code",
      "execution_count": 2,
      "metadata": {
        "id": "hr81dqylCDdn"
      },
      "outputs": [],
      "source": [
        "import numpy as np\n",
        "from random import randint\n",
        "from random import uniform\n",
        "import matplotlib.pyplot as plt\n",
        "import pandas as pd\n",
        "from sklearn.preprocessing import LabelEncoder\n",
        "import math"
      ]
    },
    {
      "cell_type": "code",
      "execution_count": 3,
      "metadata": {
        "colab": {
          "base_uri": "https://localhost:8080/",
          "height": 300
        },
        "id": "PxZhRhKVCDdp",
        "outputId": "b05ce2d4-7a23-4278-f96c-721203c43cb6"
      },
      "outputs": [
        {
          "data": {
            "text/html": [
              "<div>\n",
              "<style scoped>\n",
              "    .dataframe tbody tr th:only-of-type {\n",
              "        vertical-align: middle;\n",
              "    }\n",
              "\n",
              "    .dataframe tbody tr th {\n",
              "        vertical-align: top;\n",
              "    }\n",
              "\n",
              "    .dataframe thead th {\n",
              "        text-align: right;\n",
              "    }\n",
              "</style>\n",
              "<table border=\"1\" class=\"dataframe\">\n",
              "  <thead>\n",
              "    <tr style=\"text-align: right;\">\n",
              "      <th></th>\n",
              "      <th>id</th>\n",
              "      <th>LOC_BLANK</th>\n",
              "      <th>BRANCH_COUNT</th>\n",
              "      <th>LOC_CODE_AND_COMMENT</th>\n",
              "      <th>LOC_COMMENTS</th>\n",
              "      <th>CYCLOMATIC_COMPLEXITY</th>\n",
              "      <th>DESIGN_COMPLEXITY</th>\n",
              "      <th>ESSENTIAL_COMPLEXITY</th>\n",
              "      <th>LOC_EXECUTABLE</th>\n",
              "      <th>HALSTEAD_CONTENT</th>\n",
              "      <th>...</th>\n",
              "      <th>HALSTEAD_LENGTH</th>\n",
              "      <th>HALSTEAD_LEVEL</th>\n",
              "      <th>HALSTEAD_PROG_TIME</th>\n",
              "      <th>HALSTEAD_VOLUME</th>\n",
              "      <th>NUM_OPERANDS</th>\n",
              "      <th>NUM_OPERATORS</th>\n",
              "      <th>NUM_UNIQUE_OPERANDS</th>\n",
              "      <th>NUM_UNIQUE_OPERATORS</th>\n",
              "      <th>LOC_TOTAL</th>\n",
              "      <th>label</th>\n",
              "    </tr>\n",
              "  </thead>\n",
              "  <tbody>\n",
              "    <tr>\n",
              "      <th>0</th>\n",
              "      <td>1</td>\n",
              "      <td>1</td>\n",
              "      <td>7</td>\n",
              "      <td>0</td>\n",
              "      <td>0</td>\n",
              "      <td>4</td>\n",
              "      <td>3</td>\n",
              "      <td>1</td>\n",
              "      <td>11</td>\n",
              "      <td>25.05</td>\n",
              "      <td>...</td>\n",
              "      <td>59</td>\n",
              "      <td>0.09</td>\n",
              "      <td>174.56</td>\n",
              "      <td>280.54</td>\n",
              "      <td>28</td>\n",
              "      <td>31</td>\n",
              "      <td>15</td>\n",
              "      <td>12</td>\n",
              "      <td>14</td>\n",
              "      <td>N</td>\n",
              "    </tr>\n",
              "    <tr>\n",
              "      <th>1</th>\n",
              "      <td>2</td>\n",
              "      <td>5</td>\n",
              "      <td>37</td>\n",
              "      <td>0</td>\n",
              "      <td>6</td>\n",
              "      <td>19</td>\n",
              "      <td>16</td>\n",
              "      <td>10</td>\n",
              "      <td>85</td>\n",
              "      <td>81.19</td>\n",
              "      <td>...</td>\n",
              "      <td>351</td>\n",
              "      <td>0.04</td>\n",
              "      <td>3388.22</td>\n",
              "      <td>2225.29</td>\n",
              "      <td>147</td>\n",
              "      <td>204</td>\n",
              "      <td>59</td>\n",
              "      <td>22</td>\n",
              "      <td>98</td>\n",
              "      <td>N</td>\n",
              "    </tr>\n",
              "    <tr>\n",
              "      <th>2</th>\n",
              "      <td>3</td>\n",
              "      <td>2</td>\n",
              "      <td>1</td>\n",
              "      <td>0</td>\n",
              "      <td>0</td>\n",
              "      <td>1</td>\n",
              "      <td>1</td>\n",
              "      <td>1</td>\n",
              "      <td>10</td>\n",
              "      <td>56.44</td>\n",
              "      <td>...</td>\n",
              "      <td>37</td>\n",
              "      <td>0.35</td>\n",
              "      <td>25.17</td>\n",
              "      <td>159.91</td>\n",
              "      <td>17</td>\n",
              "      <td>20</td>\n",
              "      <td>15</td>\n",
              "      <td>5</td>\n",
              "      <td>14</td>\n",
              "      <td>Y</td>\n",
              "    </tr>\n",
              "    <tr>\n",
              "      <th>3</th>\n",
              "      <td>4</td>\n",
              "      <td>16</td>\n",
              "      <td>1</td>\n",
              "      <td>0</td>\n",
              "      <td>0</td>\n",
              "      <td>1</td>\n",
              "      <td>1</td>\n",
              "      <td>1</td>\n",
              "      <td>52</td>\n",
              "      <td>168.57</td>\n",
              "      <td>...</td>\n",
              "      <td>450</td>\n",
              "      <td>0.06</td>\n",
              "      <td>2697.42</td>\n",
              "      <td>2860.90</td>\n",
              "      <td>198</td>\n",
              "      <td>252</td>\n",
              "      <td>70</td>\n",
              "      <td>12</td>\n",
              "      <td>70</td>\n",
              "      <td>Y</td>\n",
              "    </tr>\n",
              "    <tr>\n",
              "      <th>4</th>\n",
              "      <td>5</td>\n",
              "      <td>0</td>\n",
              "      <td>7</td>\n",
              "      <td>0</td>\n",
              "      <td>0</td>\n",
              "      <td>4</td>\n",
              "      <td>2</td>\n",
              "      <td>3</td>\n",
              "      <td>9</td>\n",
              "      <td>14.32</td>\n",
              "      <td>...</td>\n",
              "      <td>26</td>\n",
              "      <td>0.13</td>\n",
              "      <td>47.33</td>\n",
              "      <td>110.45</td>\n",
              "      <td>9</td>\n",
              "      <td>17</td>\n",
              "      <td>7</td>\n",
              "      <td>12</td>\n",
              "      <td>12</td>\n",
              "      <td>N</td>\n",
              "    </tr>\n",
              "  </tbody>\n",
              "</table>\n",
              "<p>5 rows × 23 columns</p>\n",
              "</div>"
            ],
            "text/plain": [
              "   id  LOC_BLANK  BRANCH_COUNT  LOC_CODE_AND_COMMENT  LOC_COMMENTS  \\\n",
              "0   1          1             7                     0             0   \n",
              "1   2          5            37                     0             6   \n",
              "2   3          2             1                     0             0   \n",
              "3   4         16             1                     0             0   \n",
              "4   5          0             7                     0             0   \n",
              "\n",
              "   CYCLOMATIC_COMPLEXITY  DESIGN_COMPLEXITY  ESSENTIAL_COMPLEXITY  \\\n",
              "0                      4                  3                     1   \n",
              "1                     19                 16                    10   \n",
              "2                      1                  1                     1   \n",
              "3                      1                  1                     1   \n",
              "4                      4                  2                     3   \n",
              "\n",
              "   LOC_EXECUTABLE  HALSTEAD_CONTENT  ...  HALSTEAD_LENGTH  HALSTEAD_LEVEL  \\\n",
              "0              11             25.05  ...               59            0.09   \n",
              "1              85             81.19  ...              351            0.04   \n",
              "2              10             56.44  ...               37            0.35   \n",
              "3              52            168.57  ...              450            0.06   \n",
              "4               9             14.32  ...               26            0.13   \n",
              "\n",
              "   HALSTEAD_PROG_TIME  HALSTEAD_VOLUME  NUM_OPERANDS  NUM_OPERATORS  \\\n",
              "0              174.56           280.54            28             31   \n",
              "1             3388.22          2225.29           147            204   \n",
              "2               25.17           159.91            17             20   \n",
              "3             2697.42          2860.90           198            252   \n",
              "4               47.33           110.45             9             17   \n",
              "\n",
              "   NUM_UNIQUE_OPERANDS  NUM_UNIQUE_OPERATORS  LOC_TOTAL  label  \n",
              "0                   15                    12         14      N  \n",
              "1                   59                    22         98      N  \n",
              "2                   15                     5         14      Y  \n",
              "3                   70                    12         70      Y  \n",
              "4                    7                    12         12      N  \n",
              "\n",
              "[5 rows x 23 columns]"
            ]
          },
          "execution_count": 3,
          "metadata": {},
          "output_type": "execute_result"
        }
      ],
      "source": [
        "data=pd.read_csv('csv_result-JM1.csv')\n",
        "data.head()"
      ]
    },
    {
      "cell_type": "code",
      "execution_count": 4,
      "metadata": {
        "colab": {
          "base_uri": "https://localhost:8080/"
        },
        "id": "uR5ev0BsCDdp",
        "outputId": "6041b964-072d-4197-9d67-b45bcc6199ab"
      },
      "outputs": [
        {
          "data": {
            "text/plain": [
              "(7782, 23)"
            ]
          },
          "execution_count": 4,
          "metadata": {},
          "output_type": "execute_result"
        }
      ],
      "source": [
        "data.shape"
      ]
    },
    {
      "cell_type": "code",
      "execution_count": 5,
      "metadata": {
        "colab": {
          "base_uri": "https://localhost:8080/"
        },
        "id": "9txAfuwdCDdr",
        "outputId": "5bd11b8d-1871-4b78-a329-c7653d7df69a"
      },
      "outputs": [
        {
          "name": "stdout",
          "output_type": "stream",
          "text": [
            "id                       0\n",
            "LOC_BLANK                0\n",
            "BRANCH_COUNT             0\n",
            "LOC_CODE_AND_COMMENT     0\n",
            "LOC_COMMENTS             0\n",
            "CYCLOMATIC_COMPLEXITY    0\n",
            "DESIGN_COMPLEXITY        0\n",
            "ESSENTIAL_COMPLEXITY     0\n",
            "LOC_EXECUTABLE           0\n",
            "HALSTEAD_CONTENT         0\n",
            "HALSTEAD_DIFFICULTY      0\n",
            "HALSTEAD_EFFORT          0\n",
            "HALSTEAD_ERROR_EST       0\n",
            "HALSTEAD_LENGTH          0\n",
            "HALSTEAD_LEVEL           0\n",
            "HALSTEAD_PROG_TIME       0\n",
            "HALSTEAD_VOLUME          0\n",
            "NUM_OPERANDS             0\n",
            "NUM_OPERATORS            0\n",
            "NUM_UNIQUE_OPERANDS      0\n",
            "NUM_UNIQUE_OPERATORS     0\n",
            "LOC_TOTAL                0\n",
            "label                    0\n",
            "dtype: int64\n"
          ]
        }
      ],
      "source": [
        "print(data.isnull().sum())\n",
        "\n"
      ]
    },
    {
      "cell_type": "code",
      "execution_count": 6,
      "metadata": {
        "colab": {
          "base_uri": "https://localhost:8080/"
        },
        "id": "06w0apr6CDds",
        "outputId": "e2b2820f-66af-4bc2-ae9b-84fe404993ed"
      },
      "outputs": [],
      "source": [
        "#data=data.fillna(0)\n",
        "#print(data.isnull().sum())"
      ]
    },
    {
      "cell_type": "code",
      "execution_count": 7,
      "metadata": {
        "id": "EE_Jc57pCDdu"
      },
      "outputs": [],
      "source": [
        "#Separate the features and output column\n",
        "\n",
        "y=data.iloc[:,-1]\n",
        "tdata=data.iloc[:,0:-1]\n",
        "#tdata"
      ]
    },
    {
      "cell_type": "code",
      "execution_count": 8,
      "metadata": {
        "colab": {
          "base_uri": "https://localhost:8080/"
        },
        "id": "qJBAV_VsCDdu",
        "outputId": "e3e4953f-38f1-4c6d-ef38-b384e130a356"
      },
      "outputs": [
        {
          "data": {
            "text/plain": [
              "array([0, 0, 1, ..., 1, 0, 0])"
            ]
          },
          "execution_count": 8,
          "metadata": {},
          "output_type": "execute_result"
        }
      ],
      "source": [
        "from sklearn import preprocessing\n",
        "from sklearn import utils\n",
        "label = preprocessing.LabelEncoder()\n",
        "\n",
        "y=label.fit_transform(y)\n",
        "#y=label.fit_transform(y)\n",
        "\n",
        "y\n"
      ]
    },
    {
      "cell_type": "code",
      "execution_count": 9,
      "metadata": {
        "id": "xee4f9YxCDdv"
      },
      "outputs": [],
      "source": [
        "max_itr=200\n",
        "rows, columns= data.shape[0], data.shape[1]\n",
        "NP=30 #Number of population\n",
        "dim=columns-1 #Dimesnsion of the problem\n",
        "repeat=10"
      ]
    },
    {
      "cell_type": "code",
      "execution_count": 10,
      "metadata": {
        "colab": {
          "base_uri": "https://localhost:8080/"
        },
        "id": "-H8yzU5aCDdy",
        "outputId": "53e1ef77-8252-4cbb-f66f-9364623d2bce"
      },
      "outputs": [
        {
          "data": {
            "text/plain": [
              "((6225, 22), (1557, 22), (6225,), (1557,))"
            ]
          },
          "execution_count": 10,
          "metadata": {},
          "output_type": "execute_result"
        }
      ],
      "source": [
        "from sklearn.model_selection import train_test_split\n",
        "\n",
        "training_data,testing_data,training_classlebel,testing_classlebel=train_test_split(tdata,y,test_size=0.2,random_state=42)\n",
        "training_data.shape,testing_data.shape,training_classlebel.shape,testing_classlebel.shape"
      ]
    },
    {
      "cell_type": "code",
      "execution_count": 11,
      "metadata": {
        "id": "6YbTulDHCDdz"
      },
      "outputs": [],
      "source": [
        "import random\n",
        "from sklearn.metrics import accuracy_score,f1_score,recall_score,precision_score,confusion_matrix\n",
        "\n",
        "from sklearn.tree import DecisionTreeClassifier\n",
        "dtc=DecisionTreeClassifier()\n"
      ]
    },
    {
      "cell_type": "code",
      "execution_count": 12,
      "metadata": {
        "id": "TZnT_DLmCDd0"
      },
      "outputs": [],
      "source": [
        "\n",
        "average_fitness=[]\n",
        "average_accuracy=[]\n",
        "average_accuracy_without_FS=[]\n",
        "average_feature=[]"
      ]
    },
    {
      "cell_type": "code",
      "execution_count": 13,
      "metadata": {
        "colab": {
          "base_uri": "https://localhost:8080/",
          "height": 836
        },
        "id": "QzOLs-IjCDd0",
        "outputId": "6cc4b6ea-93ac-435a-a2b4-942264e2feee"
      },
      "outputs": [
        {
          "name": "stdout",
          "output_type": "stream",
          "text": [
            "Run no: 0\n",
            "Selected no. of features:  4\n",
            "Accuracy with FS:  73.85998715478485\n",
            "Accuracy without FS:  69.42838792549774\n",
            "Run no: 1\n",
            "Selected no. of features:  2\n",
            "Accuracy with FS:  79.44765574823379\n",
            "Accuracy without FS:  69.36416184971098\n",
            "Run no: 2\n",
            "Selected no. of features:  4\n",
            "Accuracy with FS:  74.11689145793193\n",
            "Accuracy without FS:  69.81374438021837\n",
            "Run no: 3\n",
            "Selected no. of features:  4\n",
            "Accuracy with FS:  73.7315350032113\n",
            "Accuracy without FS:  70.26332691072575\n",
            "Run no: 4\n",
            "Selected no. of features:  3\n",
            "Accuracy with FS:  74.373795761079\n",
            "Accuracy without FS:  69.49261400128452\n",
            "Run no: 5\n",
            "Selected no. of features:  3\n",
            "Accuracy with FS:  74.11689145793193\n",
            "Accuracy without FS:  69.81374438021837\n",
            "Run no: 6\n",
            "Selected no. of features:  4\n",
            "Accuracy with FS:  75.33718689788054\n",
            "Accuracy without FS:  69.23570969813746\n",
            "Run no: 7\n",
            "Selected no. of features:  4\n",
            "Accuracy with FS:  74.50224791265254\n",
            "Accuracy without FS:  69.7495183044316\n",
            "Run no: 8\n",
            "Selected no. of features:  5\n",
            "Accuracy with FS:  75.59409120102761\n",
            "Accuracy without FS:  70.13487475915221\n",
            "Run no: 9\n",
            "Selected no. of features:  3\n",
            "Accuracy with FS:  78.80539499036608\n",
            "Accuracy without FS:  69.04303147077714\n"
          ]
        }
      ],
      "source": [
        "populationSize = NP # Number of search agents\n",
        "Max_iteration = max_itr\n",
        "lb = 0\n",
        "ub = dim-1\n",
        "# ub=1\n",
        "Best_score_T = np.zeros(repeat)\n",
        "\n",
        "for run in range(repeat):\n",
        "    print(f'Run no: {run}')\n",
        "    # initialize Golden jackal pair\n",
        "    Male_Jackal_pos = np.zeros(dim)\n",
        "    Male_Jackal_score = float('inf')\n",
        "    Female_Jackal_pos = np.zeros(dim)\n",
        "    Female_Jackal_score = float('inf')\n",
        "    #fit=np.zeros(NP)\n",
        "    Boundary_no = 1\n",
        "\n",
        "    Positions = np.zeros((populationSize, dim)) #Declaration\n",
        "    # If each variable has a different lb and ub\n",
        "    if Boundary_no > 1:\n",
        "        for i in range(dim):\n",
        "            ub_i = ub[i]\n",
        "            lb_i = lb[i]\n",
        "            Positions[:,i] = np.random.rand(populationSize,1) * (ub_i - lb_i) + lb_i\n",
        "    if Boundary_no == 1:\n",
        "      for i in range(NP):\n",
        "        for d in range(dim):\n",
        "          if random.random()>0.5:\n",
        "            Positions[i,d]=1\n",
        "    \n",
        "   \n",
        "\n",
        "    pop_size = Positions.shape[0]\n",
        "    Convergence_curve = []\n",
        "    Positions_new = np.zeros(Positions.shape)\n",
        "    l = 1\n",
        "\n",
        "    \n",
        "\n",
        "    # Main loop\n",
        "    while l <= Max_iteration:\n",
        "        u=np.zeros(Positions.shape)\n",
        "        Male_Positions = np.zeros((populationSize,dim))\n",
        "        Female_Positions = np.zeros((populationSize,dim))\n",
        "        for i in range(Positions.shape[0]):\n",
        "            # boundary checking\n",
        "            Flag4ub = Positions[i,:] > ub\n",
        "            Flag4lb = Positions[i,:] < lb\n",
        "            Positions[i,:] = (Positions[i,:]*(~(Flag4ub + Flag4lb))) + ub*Flag4ub + lb*Flag4lb\n",
        "\n",
        "            #Use Transfer function\n",
        "\n",
        "            for j in range(dim):\n",
        "\n",
        "              TF=1/(1+math.exp(-Positions_new[i,j])) #Transfer Function 1\n",
        "\n",
        "              if TF<random.random():\n",
        "                u[i,j]=0\n",
        "              else:\n",
        "                u[i,j]=1\n",
        "\n",
        "              # TF=1/(1+math.exp((-10)*(Positions_new[i,j]-0.5))) #Transfer Function 2\n",
        "              \n",
        "              # if TF>random.random():\n",
        "              #   u[i,j]=1\n",
        "              # else:\n",
        "              #   u[i,j]=0\n",
        "            \n",
        "            # Calculate Fitness for each search agent\n",
        "            if((training_data.iloc[:,u[i,:]==1]).shape[1]==0):\n",
        "              fitness=1\n",
        "            else:  \n",
        "              o1=dtc.fit(training_data.iloc[:,u[i,:]==1],training_classlebel)\n",
        "              Ac1=dtc.predict(testing_data.iloc[:,u[i,:]==1])\n",
        "              fitness=sum(Ac1!=testing_classlebel)/testing_data.shape[0]\n",
        "            \n",
        "            # Update Male Jackal \n",
        "            if fitness < Male_Jackal_score:\n",
        "                Male_Jackal_score = fitness\n",
        "                Male_Jackal_pos = u[i,:] #Check Later\n",
        "                \n",
        "            if fitness > Male_Jackal_score and fitness < Female_Jackal_score:\n",
        "                Female_Jackal_score = fitness\n",
        "                Female_Jackal_pos = u[i,:] #Check Later\n",
        "\n",
        "        # for j in range(Positions.shape[0]):\n",
        "        #     o1=dtc.fit(training_data.iloc[:,Positions[i,:]==1],training_classlebel)\n",
        "        #     Ac1=dtc.predict(testing_data.iloc[:,Positions[i,:]==1])\n",
        "        #     fitness=sum(Ac1!=testing_classlebel)/testing_data.shape[0]\n",
        "        #     fitness_old[j] = fitness\n",
        "        #     if fitness < King_fit:\n",
        "        #         King_fit = fitness\n",
        "        #         King = Positions[j,:]\n",
        "\n",
        "\n",
        "        E1 = 1.5*(1-(l/Max_iteration))\n",
        "        beta = 1.5\n",
        "        num = math.gamma(1+beta)*math.sin(math.pi*beta/2) # used for Numerator \n",
        "        den = math.gamma((1+beta)/2)*beta*2**((beta-1)/2) # used for Denominator\n",
        "        sigma_u = (num/den)**(1/beta) # Standard deviation\n",
        "        u = np.random.normal(0, sigma_u, (NP, dim))\n",
        "        v = np.random.normal(0, 1, (NP, dim))\n",
        "        z = u/(abs(v)**(1/beta))\n",
        "        RL = 0.05*z\n",
        "\n",
        "        for i in range(Positions.shape[0]): #1\n",
        "            for j in range(Positions.shape[1]): #2\n",
        "                r1=np.random.rand() # r1 is a random number in [0,1]\n",
        "                E0=2*r1-1;            \n",
        "                E=E1*E0 # Evading energy\n",
        "\n",
        "                if abs(E)<1:\n",
        "                    # EXPLOITATION\n",
        "                    D_male_jackal=abs((RL[i,j]*Male_Jackal_pos[j]-Positions[i,j]))\n",
        "                    Male_Positions[i,j]=Male_Jackal_pos[j]-E*D_male_jackal\n",
        "                    D_female_jackal=abs((RL[i,j]*Female_Jackal_pos[j]-Positions[i,j]))\n",
        "                    Female_Positions[i,j]=Female_Jackal_pos[j]-E*D_female_jackal\n",
        "                else:\n",
        "                    # EXPLORATION\n",
        "                    D_male_jackal=abs((Male_Jackal_pos[j]- RL[i,j]*Positions[i,j]))\n",
        "                    Male_Positions[i,j]=Male_Jackal_pos[j]-E*D_male_jackal\n",
        "                    D_female_jackal=abs((Female_Jackal_pos[j]- RL[i,j]*Positions[i,j]))\n",
        "                    Female_Positions[i,j]=Female_Jackal_pos[j]-E*D_female_jackal\n",
        "                Positions[i,j]=(Male_Positions[i,j]+Female_Positions[i,j])/2\n",
        "        Convergence_curve.append(Male_Jackal_score)\n",
        "                        \n",
        "        l=l+1\n",
        "        \n",
        "    #Select features        \n",
        "\n",
        "    Sf=[]\n",
        "    for k in range(dim):\n",
        "        if Male_Jackal_pos[k]>0.5:\n",
        "            Sf.append(k)\n",
        "    Nf=len(Sf)\n",
        "\n",
        "    #Accuracy with FS\n",
        "\n",
        "    o1=dtc.fit(training_data.iloc[:,Sf],training_classlebel)\n",
        "    Ac1=dtc.predict(testing_data.iloc[:,Sf])\n",
        "    Fnew2=sum(Ac1==testing_classlebel)/testing_data.shape[0]*100\n",
        "    print('Selected no. of features: ', Nf)\n",
        "    print(\"Accuracy with FS: \",Fnew2)\n",
        "\n",
        "\n",
        "    #Accuracy without FS\n",
        "\n",
        "    o1=dtc.fit(training_data,training_classlebel)\n",
        "    Ac1=dtc.predict(testing_data)\n",
        "    Fnew=sum(Ac1==testing_classlebel)/testing_data.shape[0]*100\n",
        "    print(\"Accuracy without FS: \",Fnew)\n",
        "    #average_accuracy_without_FS.append(Fnew)\n",
        "\n"
      ]
    },
    {
      "cell_type": "code",
      "execution_count": 14,
      "metadata": {},
      "outputs": [
        {
          "data": {
            "text/plain": [
              "[<matplotlib.lines.Line2D at 0x220598dd2b0>]"
            ]
          },
          "execution_count": 14,
          "metadata": {},
          "output_type": "execute_result"
        },
        {
          "data": {
            "image/png": "[encoded data removed]",
            "text/plain": [
              "<Figure size 640x480 with 1 Axes>"
            ]
          },
          "metadata": {},
          "output_type": "display_data"
        }
      ],
      "source": [
        "import matplotlib.pyplot as plt\n",
        "plt.plot(Convergence_curve, color='r', linewidth=2)"
      ]
    },
    {
      "cell_type": "code",
      "execution_count": 15,
      "metadata": {},
      "outputs": [],
      "source": [
        "import pickle\n",
        "\n",
        "with open(\"JM1_DTfitness\", \"wb\") as fp:   #Pickling\n",
        "  pickle.dump(Convergence_curve, fp)\n",
        "  \n",
        "\n"
      ]
    }
  ],
  "metadata": {
    "colab": {
      "provenance": []
    },
    "kernelspec": {
      "display_name": "base",
      "language": "python",
      "name": "python3"
    },
    "language_info": {
      "codemirror_mode": {
        "name": "ipython",
        "version": 3
      },
      "file_extension": ".py",
      "mimetype": "text/x-python",
      "name": "python",
      "nbconvert_exporter": "python",
      "pygments_lexer": "ipython3",
      "version": "3.9.13"
    },
    "orig_nbformat": 4,
    "vscode": {
      "interpreter": {
        "hash": "530219143d35336307c4e71c62e86952d4af021e0d8cd486539f9a68941d86ce"
      }
    }
  },
  "nbformat": 4,
  "nbformat_minor": 0
}
